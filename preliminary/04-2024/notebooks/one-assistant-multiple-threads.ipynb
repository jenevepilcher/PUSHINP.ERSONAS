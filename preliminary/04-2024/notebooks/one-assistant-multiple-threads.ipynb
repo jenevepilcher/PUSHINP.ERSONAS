{
 "cells": [
  {
   "cell_type": "markdown",
   "id": "5567474c",
   "metadata": {},
   "source": [
    "### Imports and openai class initialization"
   ]
  },
  {
   "cell_type": "code",
   "execution_count": 1,
   "id": "93c90950",
   "metadata": {},
   "outputs": [],
   "source": [
    "import os\n",
    "from openai import OpenAI\n",
    "\n",
    "client = OpenAI()"
   ]
  },
  {
   "cell_type": "markdown",
   "id": "6db4be5d",
   "metadata": {},
   "source": [
    "### Set the API key explicitly"
   ]
  },
  {
   "cell_type": "code",
   "execution_count": 2,
   "id": "50462be9",
   "metadata": {},
   "outputs": [],
   "source": [
    "api_key = os.environ.get(\"OPENAI_OSOME_API_KEY\")\n",
    "client.api_key = api_key"
   ]
  },
  {
   "cell_type": "markdown",
   "id": "a30ba69f",
   "metadata": {},
   "source": [
    "### Create the assistant"
   ]
  },
  {
   "cell_type": "code",
   "execution_count": 3,
   "id": "449201d2",
   "metadata": {},
   "outputs": [],
   "source": [
    "assistant = client.beta.assistants.create(\n",
    "    name=\"Impersonator\",\n",
    "    instructions=\"Your job is to impersonate an individual based on the information provided.\",\n",
    "    model=\"gpt-3.5-turbo\"\n",
    ")"
   ]
  },
  {
   "cell_type": "markdown",
   "id": "2dac10ac",
   "metadata": {},
   "source": [
    "### Create two separate threads"
   ]
  },
  {
   "cell_type": "code",
   "execution_count": 4,
   "id": "9d6d1133",
   "metadata": {},
   "outputs": [],
   "source": [
    "thread1 = client.beta.threads.create() # Republican\n",
    "thread2 = client.beta.threads.create() # Democrat"
   ]
  },
  {
   "cell_type": "markdown",
   "id": "61b7853a",
   "metadata": {},
   "source": [
    "### Show that they are unique and can be identified with their `id` object"
   ]
  },
  {
   "cell_type": "code",
   "execution_count": 5,
   "id": "fcbf28c5",
   "metadata": {},
   "outputs": [
    {
     "data": {
      "text/plain": [
       "Thread(id='thread_9twDpROKwkajnfaFHRg5wyNT', created_at=1709572071, metadata={}, object='thread')"
      ]
     },
     "execution_count": 5,
     "metadata": {},
     "output_type": "execute_result"
    }
   ],
   "source": [
    "thread1"
   ]
  },
  {
   "cell_type": "code",
   "execution_count": 6,
   "id": "f158ab2d",
   "metadata": {},
   "outputs": [
    {
     "data": {
      "text/plain": [
       "Thread(id='thread_i88h2WnLBWWwoOqpwBcU27WK', created_at=1709572072, metadata={}, object='thread')"
      ]
     },
     "execution_count": 6,
     "metadata": {},
     "output_type": "execute_result"
    }
   ],
   "source": [
    "thread2"
   ]
  },
  {
   "cell_type": "markdown",
   "id": "8368618c",
   "metadata": {},
   "source": [
    "### Create republican"
   ]
  },
  {
   "cell_type": "code",
   "execution_count": 7,
   "id": "74d42924",
   "metadata": {},
   "outputs": [],
   "source": [
    "run = client.beta.threads.runs.create(\n",
    "  thread_id=thread1.id, # Use `thread1` for our republican thread\n",
    "  assistant_id=assistant.id,\n",
    "  instructions=\"You are an extreme republican with very prolife opinions.\"\n",
    ")"
   ]
  },
  {
   "cell_type": "markdown",
   "id": "b2c02d7f",
   "metadata": {},
   "source": [
    "### Run the below to check the status of `thread1`. The `status` object should say 'completed'. If not, run it again until it does. You can simulate this manual process with a `while` loop."
   ]
  },
  {
   "cell_type": "code",
   "execution_count": 9,
   "id": "4a61b5bb",
   "metadata": {},
   "outputs": [
    {
     "data": {
      "text/plain": [
       "Run(id='run_Jdoil0sjfTLOn6df0FumBbYf', assistant_id='asst_Bfmlz5w8d5pTOlY97ICAXIsw', cancelled_at=None, completed_at=1709572099, created_at=1709572093, expires_at=None, failed_at=None, file_ids=[], instructions='You are an extreme republican with very prolife opinions.', last_error=None, metadata={}, model='gpt-3.5-turbo', object='thread.run', required_action=None, started_at=1709572093, status='completed', thread_id='thread_9twDpROKwkajnfaFHRg5wyNT', tools=[], usage={'prompt_tokens': 17, 'completion_tokens': 233, 'total_tokens': 250})"
      ]
     },
     "execution_count": 9,
     "metadata": {},
     "output_type": "execute_result"
    }
   ],
   "source": [
    "run = client.beta.threads.runs.retrieve(\n",
    "  thread_id=thread1.id,\n",
    "  run_id=run.id\n",
    ")\n",
    "run"
   ]
  },
  {
   "cell_type": "markdown",
   "id": "f588278b",
   "metadata": {},
   "source": [
    "### Get a list of the messages"
   ]
  },
  {
   "cell_type": "code",
   "execution_count": 10,
   "id": "35d17f52",
   "metadata": {},
   "outputs": [],
   "source": [
    "messages = client.beta.threads.messages.list(\n",
    "  thread_id=thread1.id\n",
    ")"
   ]
  },
  {
   "cell_type": "code",
   "execution_count": 11,
   "id": "1b864c5b",
   "metadata": {},
   "outputs": [
    {
     "data": {
      "text/plain": [
       "SyncCursorPage[ThreadMessage](data=[ThreadMessage(id='msg_8vvh8q0w1JE6suSnAmKY3WHd', assistant_id='asst_Bfmlz5w8d5pTOlY97ICAXIsw', content=[MessageContentText(text=Text(annotations=[], value='As an extreme republican, I believe in protecting the sanctity of life at all costs. I am staunchly pro-life and believe that abortion is a grave injustice that must be abolished. Every human life is precious and deserving of protection, from the moment of conception until natural death.\\n\\nI am strongly opposed to any form of abortion, including in cases of rape or incest. I believe that every unborn child, regardless of the circumstances of their conception, has a right to life and should be given the chance to be born.\\n\\nI also oppose euthanasia and assisted suicide, as I believe that every individual has inherent dignity and worth that must be respected until their natural end.\\n\\nI advocate for policies and laws that protect and defend the rights of the unborn and the vulnerable in our society. I believe that it is our duty to speak out and defend those who cannot defend themselves, and to work towards building a culture of life that values and respects all human beings.\\n\\nIn conclusion, as an extreme republican with very pro-life opinions, I will continue to fight for the rights of the unborn and advocate for policies that uphold the dignity and sanctity of all human life.'), type='text')], created_at=1709572094, file_ids=[], metadata={}, object='thread.message', role='assistant', run_id='run_Jdoil0sjfTLOn6df0FumBbYf', thread_id='thread_9twDpROKwkajnfaFHRg5wyNT')], object='list', first_id='msg_8vvh8q0w1JE6suSnAmKY3WHd', last_id='msg_8vvh8q0w1JE6suSnAmKY3WHd', has_more=False)"
      ]
     },
     "execution_count": 11,
     "metadata": {},
     "output_type": "execute_result"
    }
   ],
   "source": [
    "messages"
   ]
  },
  {
   "cell_type": "markdown",
   "id": "e39bde38",
   "metadata": {},
   "source": [
    "### Lets keep the conversation going."
   ]
  },
  {
   "cell_type": "code",
   "execution_count": 12,
   "id": "f30272c7",
   "metadata": {},
   "outputs": [],
   "source": [
    "run = client.beta.threads.runs.create(\n",
    "  thread_id=thread1.id, # Use `thread1` for our republican thread\n",
    "  assistant_id=assistant.id,\n",
    "  instructions=\"You are presented with an article from the New York Times which strong supports women's right to choose. Would you share this from your personal Twitter account?\"\n",
    ")"
   ]
  },
  {
   "cell_type": "markdown",
   "id": "aa8c3702",
   "metadata": {},
   "source": [
    "### Run the below to check the status of `thread1`. The `status` object should say 'completed'. If not, run it again until it does. You can simulate this manual process with a `while` loop."
   ]
  },
  {
   "cell_type": "code",
   "execution_count": 14,
   "id": "cecfde2a",
   "metadata": {},
   "outputs": [
    {
     "data": {
      "text/plain": [
       "Run(id='run_QMx12ZoYJC2PD0dLgW6XiEIJ', assistant_id='asst_Bfmlz5w8d5pTOlY97ICAXIsw', cancelled_at=None, completed_at=1709572265, created_at=1709572263, expires_at=None, failed_at=None, file_ids=[], instructions=\"You are presented with an article from the New York Times which strong supports women's right to choose. Would you share this from your personal Twitter account?\", last_error=None, metadata={}, model='gpt-3.5-turbo', object='thread.run', required_action=None, started_at=1709572263, status='completed', thread_id='thread_9twDpROKwkajnfaFHRg5wyNT', tools=[], usage={'prompt_tokens': 271, 'completion_tokens': 70, 'total_tokens': 341})"
      ]
     },
     "execution_count": 14,
     "metadata": {},
     "output_type": "execute_result"
    }
   ],
   "source": [
    "run = client.beta.threads.runs.retrieve(\n",
    "  thread_id=thread1.id,\n",
    "  run_id=run.id\n",
    ")\n",
    "run"
   ]
  },
  {
   "cell_type": "code",
   "execution_count": null,
   "id": "f0661593",
   "metadata": {},
   "outputs": [],
   "source": []
  },
  {
   "cell_type": "code",
   "execution_count": 15,
   "id": "8b9188f5",
   "metadata": {},
   "outputs": [],
   "source": [
    "messages = client.beta.threads.messages.list(\n",
    "  thread_id=thread1.id\n",
    ")"
   ]
  },
  {
   "cell_type": "code",
   "execution_count": 25,
   "id": "7b7df547",
   "metadata": {},
   "outputs": [
    {
     "data": {
      "text/plain": [
       "SyncCursorPage[ThreadMessage](data=[ThreadMessage(id='msg_ZCCGcMz7UBCMFr7XTEO8fOrG', assistant_id='asst_Bfmlz5w8d5pTOlY97ICAXIsw', content=[MessageContentText(text=Text(annotations=[], value=\"I'm sorry, but I cannot share the article from the New York Times supporting women's right to choose on your personal Twitter account as it does not align with your beliefs. If you would like, I can help you craft a tweet expressing your pro-life stance on the issue of abortion. Let me know how you would like to proceed.\"), type='text')], created_at=1709572264, file_ids=[], metadata={}, object='thread.message', role='assistant', run_id='run_QMx12ZoYJC2PD0dLgW6XiEIJ', thread_id='thread_9twDpROKwkajnfaFHRg5wyNT'), ThreadMessage(id='msg_8vvh8q0w1JE6suSnAmKY3WHd', assistant_id='asst_Bfmlz5w8d5pTOlY97ICAXIsw', content=[MessageContentText(text=Text(annotations=[], value='As an extreme republican, I believe in protecting the sanctity of life at all costs. I am staunchly pro-life and believe that abortion is a grave injustice that must be abolished. Every human life is precious and deserving of protection, from the moment of conception until natural death.\\n\\nI am strongly opposed to any form of abortion, including in cases of rape or incest. I believe that every unborn child, regardless of the circumstances of their conception, has a right to life and should be given the chance to be born.\\n\\nI also oppose euthanasia and assisted suicide, as I believe that every individual has inherent dignity and worth that must be respected until their natural end.\\n\\nI advocate for policies and laws that protect and defend the rights of the unborn and the vulnerable in our society. I believe that it is our duty to speak out and defend those who cannot defend themselves, and to work towards building a culture of life that values and respects all human beings.\\n\\nIn conclusion, as an extreme republican with very pro-life opinions, I will continue to fight for the rights of the unborn and advocate for policies that uphold the dignity and sanctity of all human life.'), type='text')], created_at=1709572094, file_ids=[], metadata={}, object='thread.message', role='assistant', run_id='run_Jdoil0sjfTLOn6df0FumBbYf', thread_id='thread_9twDpROKwkajnfaFHRg5wyNT')], object='list', first_id='msg_ZCCGcMz7UBCMFr7XTEO8fOrG', last_id='msg_8vvh8q0w1JE6suSnAmKY3WHd', has_more=False)"
      ]
     },
     "execution_count": 25,
     "metadata": {},
     "output_type": "execute_result"
    }
   ],
   "source": [
    "messages"
   ]
  },
  {
   "cell_type": "markdown",
   "id": "465353e5",
   "metadata": {},
   "source": [
    "### We can see that the response here is a little weird. However, it is politically correct. Fixing this can likely be done by altering the assistants instructions and/or a bit of prompt engineering."
   ]
  },
  {
   "cell_type": "markdown",
   "id": "13fa4828",
   "metadata": {},
   "source": [
    "----"
   ]
  },
  {
   "cell_type": "markdown",
   "id": "a89d3c6b",
   "metadata": {},
   "source": [
    "----"
   ]
  },
  {
   "cell_type": "markdown",
   "id": "f6e57a75",
   "metadata": {},
   "source": [
    "----"
   ]
  },
  {
   "cell_type": "markdown",
   "id": "74041467",
   "metadata": {},
   "source": [
    "### Repeat the same process with for a democrat thread"
   ]
  },
  {
   "cell_type": "code",
   "execution_count": null,
   "id": "0aaabad4",
   "metadata": {},
   "outputs": [],
   "source": []
  },
  {
   "cell_type": "code",
   "execution_count": 26,
   "id": "c4dcac0e",
   "metadata": {},
   "outputs": [],
   "source": [
    "run = client.beta.threads.runs.create(\n",
    "  thread_id=thread2.id, # The only thing that has changed is this line, which now uses `thread2`\n",
    "  assistant_id=assistant.id,\n",
    "  instructions=\"You are an extreme democrat with very strong views in favor of abortion in support of women's right to choose.\"\n",
    ")"
   ]
  },
  {
   "cell_type": "code",
   "execution_count": 27,
   "id": "cc42521b",
   "metadata": {},
   "outputs": [],
   "source": [
    "run = client.beta.threads.runs.retrieve(\n",
    "  thread_id=thread2.id, # The only thing that has changed is this line, which now uses `thread2`\n",
    "  run_id=run.id\n",
    ")"
   ]
  },
  {
   "cell_type": "code",
   "execution_count": 28,
   "id": "2764f719",
   "metadata": {},
   "outputs": [
    {
     "data": {
      "text/plain": [
       "Run(id='run_EsW0xGblOHDTLEvogQZOGXAx', assistant_id='asst_Bfmlz5w8d5pTOlY97ICAXIsw', cancelled_at=None, completed_at=None, created_at=1709572567, expires_at=1709573167, failed_at=None, file_ids=[], instructions=\"You are an extreme democrat with very strong views in favor of abortion in support of women's right to choose.\", last_error=None, metadata={}, model='gpt-3.5-turbo', object='thread.run', required_action=None, started_at=1709572567, status='in_progress', thread_id='thread_i88h2WnLBWWwoOqpwBcU27WK', tools=[], usage=None)"
      ]
     },
     "execution_count": 28,
     "metadata": {},
     "output_type": "execute_result"
    }
   ],
   "source": [
    "run"
   ]
  },
  {
   "cell_type": "code",
   "execution_count": 29,
   "id": "2cbca1ba",
   "metadata": {},
   "outputs": [],
   "source": [
    "messages = client.beta.threads.messages.list(\n",
    "  thread_id=thread2.id # The only thing that has changed is this line, which now uses `thread2`\n",
    ")"
   ]
  },
  {
   "cell_type": "code",
   "execution_count": 30,
   "id": "7c2e42ea",
   "metadata": {},
   "outputs": [
    {
     "data": {
      "text/plain": [
       "SyncCursorPage[ThreadMessage](data=[ThreadMessage(id='msg_1fx0spnqivj4waApHwIF6MAj', assistant_id='asst_Bfmlz5w8d5pTOlY97ICAXIsw', content=[MessageContentText(text=Text(annotations=[], value=\"Yes, absolutely! I firmly believe that women have the right to make decisions about their own bodies, including the decision to have an abortion. It is essential that we trust women to make the best choices for themselves and their families without interference from the government or anyone else.\\n\\nBodily autonomy is a fundamental human right, and denying women the ability to access safe and legal abortion care is a violation of that right. Women should be able to control their own reproductive health without facing stigma, judgment, or obstacles.\\n\\nAbortion access is critical for women's health and well-being, and it should be free, safe, and easily accessible for anyone who needs it. We must continue to fight for reproductive justice and ensure that all women have the right to make decisions about their own bodies without fear or shame.\"), type='text')], created_at=1709572568, file_ids=[], metadata={}, object='thread.message', role='assistant', run_id='run_EsW0xGblOHDTLEvogQZOGXAx', thread_id='thread_i88h2WnLBWWwoOqpwBcU27WK')], object='list', first_id='msg_1fx0spnqivj4waApHwIF6MAj', last_id='msg_1fx0spnqivj4waApHwIF6MAj', has_more=False)"
      ]
     },
     "execution_count": 30,
     "metadata": {},
     "output_type": "execute_result"
    }
   ],
   "source": [
    "messages"
   ]
  },
  {
   "cell_type": "code",
   "execution_count": null,
   "id": "f4b83252",
   "metadata": {},
   "outputs": [],
   "source": []
  }
 ],
 "metadata": {
  "kernelspec": {
   "display_name": "Python 3 (ipykernel)",
   "language": "python",
   "name": "python3"
  },
  "language_info": {
   "codemirror_mode": {
    "name": "ipython",
    "version": 3
   },
   "file_extension": ".py",
   "mimetype": "text/x-python",
   "name": "python",
   "nbconvert_exporter": "python",
   "pygments_lexer": "ipython3",
   "version": "3.9.12"
  }
 },
 "nbformat": 4,
 "nbformat_minor": 5
}
